{
 "cells": [
  {
   "cell_type": "markdown",
   "id": "025c2f71",
   "metadata": {
    "papermill": {
     "duration": 0.012266,
     "end_time": "2023-08-31T13:40:29.724070",
     "exception": false,
     "start_time": "2023-08-31T13:40:29.711804",
     "status": "completed"
    },
    "tags": []
   },
   "source": [
    "**This notebook is an exercise in the [Intro to Programming](https://www.kaggle.com/learn/intro-to-programming) course.  You can reference the tutorial at [this link](https://www.kaggle.com/alexisbcook/data-types).**\n",
    "\n",
    "---\n"
   ]
  },
  {
   "cell_type": "markdown",
   "id": "fa00a824",
   "metadata": {
    "papermill": {
     "duration": 0.011046,
     "end_time": "2023-08-31T13:40:29.746712",
     "exception": false,
     "start_time": "2023-08-31T13:40:29.735666",
     "status": "completed"
    },
    "tags": []
   },
   "source": [
    "In the tutorial, you learned about four different data types: floats, integers, strings, and booleans.  In this exercise, you'll experiment with them.\n",
    "\n",
    "# Set up the notebook\n",
    "\n",
    "Run the next code cell without changes to set up the notebook."
   ]
  },
  {
   "cell_type": "code",
   "execution_count": 1,
   "id": "7359d259",
   "metadata": {
    "execution": {
     "iopub.execute_input": "2023-08-31T13:40:29.771411Z",
     "iopub.status.busy": "2023-08-31T13:40:29.770829Z",
     "iopub.status.idle": "2023-08-31T13:40:29.819996Z",
     "shell.execute_reply": "2023-08-31T13:40:29.818433Z"
    },
    "papermill": {
     "duration": 0.06425,
     "end_time": "2023-08-31T13:40:29.822305",
     "exception": false,
     "start_time": "2023-08-31T13:40:29.758055",
     "status": "completed"
    },
    "tags": []
   },
   "outputs": [
    {
     "name": "stdout",
     "output_type": "stream",
     "text": [
      "Setup complete.\n"
     ]
    }
   ],
   "source": [
    "# Set up the exercise\n",
    "from learntools.core import binder\n",
    "binder.bind(globals())\n",
    "from learntools.intro_to_programming.ex3 import *\n",
    "print('Setup complete.')"
   ]
  },
  {
   "cell_type": "code",
   "execution_count": 2,
   "id": "3936a763",
   "metadata": {
    "execution": {
     "iopub.execute_input": "2023-08-31T13:40:29.847191Z",
     "iopub.status.busy": "2023-08-31T13:40:29.846765Z",
     "iopub.status.idle": "2023-08-31T13:40:29.853786Z",
     "shell.execute_reply": "2023-08-31T13:40:29.852653Z"
    },
    "papermill": {
     "duration": 0.021872,
     "end_time": "2023-08-31T13:40:29.855886",
     "exception": false,
     "start_time": "2023-08-31T13:40:29.834014",
     "status": "completed"
    },
    "tags": []
   },
   "outputs": [
    {
     "name": "stdout",
     "output_type": "stream",
     "text": [
      "Setup complete.\n"
     ]
    }
   ],
   "source": [
    "# Set up the exercise\n",
    "from learntools.core import binder\n",
    "binder.bind(globals())\n",
    "from learntools.intro_to_programming.ex3 import *\n",
    "print('Setup complete.')"
   ]
  },
  {
   "cell_type": "markdown",
   "id": "f2122ead",
   "metadata": {
    "papermill": {
     "duration": 0.011273,
     "end_time": "2023-08-31T13:40:29.880336",
     "exception": false,
     "start_time": "2023-08-31T13:40:29.869063",
     "status": "completed"
    },
    "tags": []
   },
   "source": [
    "# Question 1\n",
    "\n",
    "You have seen how to convert a float to an integer with the `int` function.  Try this out yourself by running the code cell below."
   ]
  },
  {
   "cell_type": "code",
   "execution_count": 3,
   "id": "854fd8dd",
   "metadata": {
    "execution": {
     "iopub.execute_input": "2023-08-31T13:40:29.905008Z",
     "iopub.status.busy": "2023-08-31T13:40:29.904567Z",
     "iopub.status.idle": "2023-08-31T13:40:29.911655Z",
     "shell.execute_reply": "2023-08-31T13:40:29.910272Z"
    },
    "papermill": {
     "duration": 0.021912,
     "end_time": "2023-08-31T13:40:29.913856",
     "exception": false,
     "start_time": "2023-08-31T13:40:29.891944",
     "status": "completed"
    },
    "tags": []
   },
   "outputs": [
    {
     "name": "stdout",
     "output_type": "stream",
     "text": [
      "1.0\n",
      "<class 'float'>\n",
      "1\n",
      "<class 'int'>\n"
     ]
    }
   ],
   "source": [
    "# Define a float\n",
    "y = 1.\n",
    "print(y)\n",
    "print(type(y))\n",
    "\n",
    "# Convert float to integer with the int function\n",
    "z = int(y)\n",
    "print(z)\n",
    "print(type(z))"
   ]
  },
  {
   "cell_type": "code",
   "execution_count": 4,
   "id": "cbfdbf1f",
   "metadata": {
    "execution": {
     "iopub.execute_input": "2023-08-31T13:40:29.939605Z",
     "iopub.status.busy": "2023-08-31T13:40:29.939191Z",
     "iopub.status.idle": "2023-08-31T13:40:29.946041Z",
     "shell.execute_reply": "2023-08-31T13:40:29.944629Z"
    },
    "papermill": {
     "duration": 0.022305,
     "end_time": "2023-08-31T13:40:29.948109",
     "exception": false,
     "start_time": "2023-08-31T13:40:29.925804",
     "status": "completed"
    },
    "tags": []
   },
   "outputs": [
    {
     "name": "stdout",
     "output_type": "stream",
     "text": [
      "1.0\n",
      "<class 'float'>\n",
      "1\n",
      "<class 'int'>\n"
     ]
    }
   ],
   "source": [
    "# Define a float\n",
    "y = 1.\n",
    "print(y)\n",
    "print(type(y))\n",
    "\n",
    "# Convert float to integer with the int function\n",
    "z = int(y)\n",
    "print(z)\n",
    "print(type(z))"
   ]
  },
  {
   "cell_type": "markdown",
   "id": "5c94701b",
   "metadata": {
    "papermill": {
     "duration": 0.011484,
     "end_time": "2023-08-31T13:40:29.971664",
     "exception": false,
     "start_time": "2023-08-31T13:40:29.960180",
     "status": "completed"
    },
    "tags": []
   },
   "source": [
    "In this case, the float you are using has no numbers after the decimal.  \n",
    "- But what happens when you try to convert a float with a fractional part to an integer?  \n",
    "- How does the outcome of the `int` function change for positive and negative numbers?\n",
    "\n",
    "Use the next code cell to investigate and answer these questions.  Feel free to add or remove any lines of code -- it is your workspace!"
   ]
  },
  {
   "cell_type": "code",
   "execution_count": 5,
   "id": "59aa4ff5",
   "metadata": {
    "execution": {
     "iopub.execute_input": "2023-08-31T13:40:29.997021Z",
     "iopub.status.busy": "2023-08-31T13:40:29.996569Z",
     "iopub.status.idle": "2023-08-31T13:40:30.002929Z",
     "shell.execute_reply": "2023-08-31T13:40:30.001841Z"
    },
    "papermill": {
     "duration": 0.021674,
     "end_time": "2023-08-31T13:40:30.005168",
     "exception": false,
     "start_time": "2023-08-31T13:40:29.983494",
     "status": "completed"
    },
    "tags": []
   },
   "outputs": [
    {
     "name": "stdout",
     "output_type": "stream",
     "text": [
      "1\n",
      "1\n",
      "-3\n",
      "-2\n"
     ]
    }
   ],
   "source": [
    "# Uncomment and run this code to get started!\n",
    "print(int(1.2321))\n",
    "print(int(1.747))\n",
    "print(int(-3.94535))\n",
    "print(int(-2.19774))"
   ]
  },
  {
   "cell_type": "code",
   "execution_count": 6,
   "id": "8bc7a4b6",
   "metadata": {
    "execution": {
     "iopub.execute_input": "2023-08-31T13:40:30.031687Z",
     "iopub.status.busy": "2023-08-31T13:40:30.031314Z",
     "iopub.status.idle": "2023-08-31T13:40:30.037687Z",
     "shell.execute_reply": "2023-08-31T13:40:30.036345Z"
    },
    "papermill": {
     "duration": 0.022315,
     "end_time": "2023-08-31T13:40:30.039805",
     "exception": false,
     "start_time": "2023-08-31T13:40:30.017490",
     "status": "completed"
    },
    "tags": []
   },
   "outputs": [
    {
     "name": "stdout",
     "output_type": "stream",
     "text": [
      "1\n",
      "1\n",
      "-3\n",
      "-2\n"
     ]
    }
   ],
   "source": [
    "# Uncomment and run this code to get started!\n",
    "print(int(1.2321))\n",
    "print(int(1.747))\n",
    "print(int(-3.94535))\n",
    "print(int(-2.19774))"
   ]
  },
  {
   "cell_type": "markdown",
   "id": "9282c011",
   "metadata": {
    "papermill": {
     "duration": 0.011736,
     "end_time": "2023-08-31T13:40:30.063808",
     "exception": false,
     "start_time": "2023-08-31T13:40:30.052072",
     "status": "completed"
    },
    "tags": []
   },
   "source": [
    "Once you have an answer, run the code cell below to see the solution.  Viewing the solution will give you credit for answering the problem."
   ]
  },
  {
   "cell_type": "code",
   "execution_count": 7,
   "id": "d3218c40",
   "metadata": {
    "execution": {
     "iopub.execute_input": "2023-08-31T13:40:30.089825Z",
     "iopub.status.busy": "2023-08-31T13:40:30.089449Z",
     "iopub.status.idle": "2023-08-31T13:40:30.099630Z",
     "shell.execute_reply": "2023-08-31T13:40:30.098522Z"
    },
    "papermill": {
     "duration": 0.02605,
     "end_time": "2023-08-31T13:40:30.102119",
     "exception": false,
     "start_time": "2023-08-31T13:40:30.076069",
     "status": "completed"
    },
    "tags": []
   },
   "outputs": [
    {
     "data": {
      "application/javascript": [
       "parent.postMessage({\"jupyterEvent\": \"custom.exercise_interaction\", \"data\": {\"outcomeType\": 1, \"valueTowardsCompletion\": 0.2, \"interactionType\": 1, \"questionType\": 4, \"questionId\": \"1_FloatToInt\", \"learnToolsVersion\": \"0.3.4\", \"failureMessage\": \"\", \"exceptionClass\": \"\", \"trace\": \"\"}}, \"*\")"
      ],
      "text/plain": [
       "<IPython.core.display.Javascript object>"
      ]
     },
     "metadata": {},
     "output_type": "display_data"
    },
    {
     "data": {
      "text/markdown": [
       "<span style=\"color:#33cc33\">Correct:</span> \n",
       "\n",
       "Negative floats are always rounded UP to the closest integer (for instance, both -1.1 and -1.9 are rounded up to -1). Positive floats are always rounded DOWN to the closest integer (for instance, 2.1 and 2.9 are rounded down to 2)."
      ],
      "text/plain": [
       "Correct: \n",
       "\n",
       "Negative floats are always rounded UP to the closest integer (for instance, both -1.1 and -1.9 are rounded up to -1). Positive floats are always rounded DOWN to the closest integer (for instance, 2.1 and 2.9 are rounded down to 2)."
      ]
     },
     "metadata": {},
     "output_type": "display_data"
    }
   ],
   "source": [
    "# Check your answer (Run this code cell to receive credit!)\n",
    "q1.check()"
   ]
  },
  {
   "cell_type": "markdown",
   "id": "4037205c",
   "metadata": {
    "papermill": {
     "duration": 0.012349,
     "end_time": "2023-08-31T13:40:30.126942",
     "exception": false,
     "start_time": "2023-08-31T13:40:30.114593",
     "status": "completed"
    },
    "tags": []
   },
   "source": [
    "# Question 2\n",
    "\n",
    "In the tutorial, you learned about booleans (which can take a value of `True` or `False`), in addition to integers, floats, and strings.  For this question, your goal is to determine what happens when you multiply a boolean by any of these data types.  Specifically, \n",
    "- What happens when you multiply an integer or float by `True`?  What happens when you multiply them by `False`?  How does the answer change if the numbers are positive or negative?\n",
    "- What happens when you multiply a string by `True`?  By `False`?\n",
    "\n",
    "Use the next code cell for your investigation. "
   ]
  },
  {
   "cell_type": "code",
   "execution_count": 8,
   "id": "5cfce355",
   "metadata": {
    "execution": {
     "iopub.execute_input": "2023-08-31T13:40:30.153821Z",
     "iopub.status.busy": "2023-08-31T13:40:30.153403Z",
     "iopub.status.idle": "2023-08-31T13:40:30.160229Z",
     "shell.execute_reply": "2023-08-31T13:40:30.158960Z"
    },
    "papermill": {
     "duration": 0.023358,
     "end_time": "2023-08-31T13:40:30.162717",
     "exception": false,
     "start_time": "2023-08-31T13:40:30.139359",
     "status": "completed"
    },
    "tags": []
   },
   "outputs": [
    {
     "name": "stdout",
     "output_type": "stream",
     "text": [
      "3\n",
      "-3.1\n",
      "<class 'str'>\n",
      "0\n"
     ]
    }
   ],
   "source": [
    "# Uncomment and run this code to get started!\n",
    "print(3 * True)\n",
    "print(-3.1 * True)\n",
    "print(type(\"abc\" * False))\n",
    "print(len(\"abc\" * False))"
   ]
  },
  {
   "cell_type": "code",
   "execution_count": 9,
   "id": "20c0a787",
   "metadata": {
    "execution": {
     "iopub.execute_input": "2023-08-31T13:40:30.189606Z",
     "iopub.status.busy": "2023-08-31T13:40:30.189177Z",
     "iopub.status.idle": "2023-08-31T13:40:30.195942Z",
     "shell.execute_reply": "2023-08-31T13:40:30.194487Z"
    },
    "papermill": {
     "duration": 0.0227,
     "end_time": "2023-08-31T13:40:30.198139",
     "exception": false,
     "start_time": "2023-08-31T13:40:30.175439",
     "status": "completed"
    },
    "tags": []
   },
   "outputs": [
    {
     "name": "stdout",
     "output_type": "stream",
     "text": [
      "3\n",
      "-3.1\n",
      "<class 'str'>\n",
      "0\n"
     ]
    }
   ],
   "source": [
    "# Uncomment and run this code to get started!\n",
    "print(3 * True)\n",
    "print(-3.1 * True)\n",
    "print(type(\"abc\" * False))\n",
    "print(len(\"abc\" * False))"
   ]
  },
  {
   "cell_type": "markdown",
   "id": "c7d76584",
   "metadata": {
    "papermill": {
     "duration": 0.012501,
     "end_time": "2023-08-31T13:40:30.223310",
     "exception": false,
     "start_time": "2023-08-31T13:40:30.210809",
     "status": "completed"
    },
    "tags": []
   },
   "source": [
    "Once you have an answer, run the code cell below to see the solution.  Viewing the solution will give you credit for answering the problem."
   ]
  },
  {
   "cell_type": "code",
   "execution_count": 10,
   "id": "94538382",
   "metadata": {
    "execution": {
     "iopub.execute_input": "2023-08-31T13:40:30.251709Z",
     "iopub.status.busy": "2023-08-31T13:40:30.251279Z",
     "iopub.status.idle": "2023-08-31T13:40:30.260164Z",
     "shell.execute_reply": "2023-08-31T13:40:30.259079Z"
    },
    "papermill": {
     "duration": 0.026432,
     "end_time": "2023-08-31T13:40:30.262250",
     "exception": false,
     "start_time": "2023-08-31T13:40:30.235818",
     "status": "completed"
    },
    "tags": []
   },
   "outputs": [
    {
     "data": {
      "application/javascript": [
       "parent.postMessage({\"jupyterEvent\": \"custom.exercise_interaction\", \"data\": {\"outcomeType\": 1, \"valueTowardsCompletion\": 0.2, \"interactionType\": 1, \"questionType\": 4, \"questionId\": \"2_MultiplyBooleans\", \"learnToolsVersion\": \"0.3.4\", \"failureMessage\": \"\", \"exceptionClass\": \"\", \"trace\": \"\"}}, \"*\")"
      ],
      "text/plain": [
       "<IPython.core.display.Javascript object>"
      ]
     },
     "metadata": {},
     "output_type": "display_data"
    },
    {
     "data": {
      "text/markdown": [
       "<span style=\"color:#33cc33\">Correct:</span> \n",
       "\n",
       "When you multiple an integer or float by a boolean with value `True`, it just returns that same integer or float (and is equivalent to multiplying by 1).  If you multiply an integer or float by a boolean with value `False`, it always returns 0.  This is true for both positive and negative numbers.  If you multiply a string by a boolean with value `True`, it just returns that same string.  And if you multiply a string by a boolean with value `False`, it returns an empty string (or a string with length zero)."
      ],
      "text/plain": [
       "Correct: \n",
       "\n",
       "When you multiple an integer or float by a boolean with value `True`, it just returns that same integer or float (and is equivalent to multiplying by 1).  If you multiply an integer or float by a boolean with value `False`, it always returns 0.  This is true for both positive and negative numbers.  If you multiply a string by a boolean with value `True`, it just returns that same string.  And if you multiply a string by a boolean with value `False`, it returns an empty string (or a string with length zero)."
      ]
     },
     "metadata": {},
     "output_type": "display_data"
    }
   ],
   "source": [
    "# Check your answer (Run this code cell to receive credit!)\n",
    "q2.check()"
   ]
  },
  {
   "cell_type": "markdown",
   "id": "1a085109",
   "metadata": {
    "papermill": {
     "duration": 0.013059,
     "end_time": "2023-08-31T13:40:30.288345",
     "exception": false,
     "start_time": "2023-08-31T13:40:30.275286",
     "status": "completed"
    },
    "tags": []
   },
   "source": [
    "# Question 3\n",
    "\n",
    "In this question, you will build off your work from the previous exercise to write a function that estimates the value of a house.\n",
    "\n",
    "Use the next code cell to create a function `get_expected_cost` that takes as input three variables:\n",
    "- `beds` - number of bedrooms (data type float)\n",
    "- `baths` - number of bathrooms (data type float)\n",
    "- `has_basement` - whether or not the house has a basement (data type boolean)\n",
    "\n",
    "It should return the expected cost of a house with those characteristics. Assume that:\n",
    "- the expected cost for a house with 0 bedrooms and 0 bathrooms, and no basement is 80000, \n",
    "- each bedroom adds 30000 to the expected cost,\n",
    "- each bathroom adds 10000 to the expected cost, and\n",
    "- a basement adds 40000 to the expected cost.\n",
    "\n",
    "For instance,\n",
    "- a house with 1 bedroom, 1 bathroom, and no basement has an expected cost of 80000 + 30000 + 10000 = 120000.  This value will be calculated with `get_expected_cost(1, 1, False)`.\n",
    "- a house with 2 bedrooms, 1 bathroom, and a basement has an expected cost of 80000 + 2*30000 + 10000 + 40000 = 190000.  This value will be calculated with `get_expected_cost(2, 1, True)`.\n",
    "\n",
    "Remember you can always get a hint by uncommenting `q3.hint()` in the code cell following the next!"
   ]
  },
  {
   "cell_type": "code",
   "execution_count": 11,
   "id": "cd5619be",
   "metadata": {
    "execution": {
     "iopub.execute_input": "2023-08-31T13:40:30.316447Z",
     "iopub.status.busy": "2023-08-31T13:40:30.315940Z",
     "iopub.status.idle": "2023-08-31T13:40:30.325770Z",
     "shell.execute_reply": "2023-08-31T13:40:30.324766Z"
    },
    "papermill": {
     "duration": 0.026573,
     "end_time": "2023-08-31T13:40:30.327962",
     "exception": false,
     "start_time": "2023-08-31T13:40:30.301389",
     "status": "completed"
    },
    "tags": []
   },
   "outputs": [
    {
     "data": {
      "application/javascript": [
       "parent.postMessage({\"jupyterEvent\": \"custom.exercise_interaction\", \"data\": {\"outcomeType\": 1, \"valueTowardsCompletion\": 0.2, \"interactionType\": 1, \"questionType\": 2, \"questionId\": \"3_EstimateHouseValueBool\", \"learnToolsVersion\": \"0.3.4\", \"failureMessage\": \"\", \"exceptionClass\": \"\", \"trace\": \"\"}}, \"*\")"
      ],
      "text/plain": [
       "<IPython.core.display.Javascript object>"
      ]
     },
     "metadata": {},
     "output_type": "display_data"
    },
    {
     "data": {
      "text/markdown": [
       "<span style=\"color:#33cc33\">Correct</span>"
      ],
      "text/plain": [
       "Correct"
      ]
     },
     "metadata": {},
     "output_type": "display_data"
    }
   ],
   "source": [
    "# TODO: Complete the function\n",
    "def get_expected_cost(beds, baths, has_basement):\n",
    "    value = 80000 + ((30000 * beds) + (10000 * baths) + (40000 * has_basement))\n",
    "    return value\n",
    "\n",
    "# Check your answer \n",
    "q3.check()"
   ]
  },
  {
   "cell_type": "code",
   "execution_count": 12,
   "id": "3dd37f62",
   "metadata": {
    "execution": {
     "iopub.execute_input": "2023-08-31T13:40:30.356876Z",
     "iopub.status.busy": "2023-08-31T13:40:30.356187Z",
     "iopub.status.idle": "2023-08-31T13:40:30.361053Z",
     "shell.execute_reply": "2023-08-31T13:40:30.359968Z"
    },
    "papermill": {
     "duration": 0.02211,
     "end_time": "2023-08-31T13:40:30.363303",
     "exception": false,
     "start_time": "2023-08-31T13:40:30.341193",
     "status": "completed"
    },
    "tags": []
   },
   "outputs": [],
   "source": [
    "# Uncomment to see a hint\n",
    "#q3.hint()\n",
    "\n",
    "# Uncomment to view the solution\n",
    "#q3.solution()"
   ]
  },
  {
   "cell_type": "markdown",
   "id": "06f99acd",
   "metadata": {
    "papermill": {
     "duration": 0.013477,
     "end_time": "2023-08-31T13:40:30.390182",
     "exception": false,
     "start_time": "2023-08-31T13:40:30.376705",
     "status": "completed"
    },
    "tags": []
   },
   "source": [
    "# Question 4\n",
    "\n",
    "We'll continue our study of boolean arithmetic.  For this question, your task is to provide a description of what happpens when you add booleans. \n",
    "\n",
    "Use the next code cell for your investigation.  Feel free to add or remove any lines of code - use it as your workspace!"
   ]
  },
  {
   "cell_type": "code",
   "execution_count": 13,
   "id": "d2309dc1",
   "metadata": {
    "execution": {
     "iopub.execute_input": "2023-08-31T13:40:30.419532Z",
     "iopub.status.busy": "2023-08-31T13:40:30.418505Z",
     "iopub.status.idle": "2023-08-31T13:40:30.425327Z",
     "shell.execute_reply": "2023-08-31T13:40:30.424185Z"
    },
    "papermill": {
     "duration": 0.024069,
     "end_time": "2023-08-31T13:40:30.428040",
     "exception": false,
     "start_time": "2023-08-31T13:40:30.403971",
     "status": "completed"
    },
    "tags": []
   },
   "outputs": [
    {
     "name": "stdout",
     "output_type": "stream",
     "text": [
      "0\n",
      "1\n",
      "1\n",
      "2\n",
      "3\n"
     ]
    }
   ],
   "source": [
    "print(False + False)\n",
    "print(True + False)\n",
    "print(False + True)\n",
    "print(True + True)\n",
    "print(False + True + True + True)"
   ]
  },
  {
   "cell_type": "markdown",
   "id": "b76db54f",
   "metadata": {
    "papermill": {
     "duration": 0.013211,
     "end_time": "2023-08-31T13:40:30.454579",
     "exception": false,
     "start_time": "2023-08-31T13:40:30.441368",
     "status": "completed"
    },
    "tags": []
   },
   "source": [
    "Once you have an answer, run the code cell below to see the solution.  Viewing the solution will give you credit for answering the problem."
   ]
  },
  {
   "cell_type": "code",
   "execution_count": 14,
   "id": "e53ac0d2",
   "metadata": {
    "execution": {
     "iopub.execute_input": "2023-08-31T13:40:30.483179Z",
     "iopub.status.busy": "2023-08-31T13:40:30.482512Z",
     "iopub.status.idle": "2023-08-31T13:40:30.491413Z",
     "shell.execute_reply": "2023-08-31T13:40:30.490347Z"
    },
    "papermill": {
     "duration": 0.025595,
     "end_time": "2023-08-31T13:40:30.493628",
     "exception": false,
     "start_time": "2023-08-31T13:40:30.468033",
     "status": "completed"
    },
    "tags": []
   },
   "outputs": [
    {
     "data": {
      "application/javascript": [
       "parent.postMessage({\"jupyterEvent\": \"custom.exercise_interaction\", \"data\": {\"outcomeType\": 1, \"valueTowardsCompletion\": 0.2, \"interactionType\": 1, \"questionType\": 4, \"questionId\": \"4_AddingBooleans\", \"learnToolsVersion\": \"0.3.4\", \"failureMessage\": \"\", \"exceptionClass\": \"\", \"trace\": \"\"}}, \"*\")"
      ],
      "text/plain": [
       "<IPython.core.display.Javascript object>"
      ]
     },
     "metadata": {},
     "output_type": "display_data"
    },
    {
     "data": {
      "text/markdown": [
       "<span style=\"color:#33cc33\">Correct:</span> \n",
       "\n",
       "When you add booleans, adding `False` is equivalent to adding 0, and adding `True` is equivalent to adding 1."
      ],
      "text/plain": [
       "Correct: \n",
       "\n",
       "When you add booleans, adding `False` is equivalent to adding 0, and adding `True` is equivalent to adding 1."
      ]
     },
     "metadata": {},
     "output_type": "display_data"
    }
   ],
   "source": [
    "# Check your answer (Run this code cell to receive credit!)\n",
    "q4.check()"
   ]
  },
  {
   "cell_type": "markdown",
   "id": "a4c06a27",
   "metadata": {
    "papermill": {
     "duration": 0.013627,
     "end_time": "2023-08-31T13:40:30.521463",
     "exception": false,
     "start_time": "2023-08-31T13:40:30.507836",
     "status": "completed"
    },
    "tags": []
   },
   "source": [
    "# 🌶️ Question 5\n",
    "\n",
    "You own an online shop where you sell rings with custom engravings.  You offer both gold plated and solid gold rings.\n",
    "- Gold plated rings have a base cost of \\\\$50, and you charge \\\\$7 per engraved unit.  \n",
    "- Solid gold rings have a base cost of \\\\$100, and you charge \\\\$10 per engraved unit.\n",
    "- Spaces and punctuation are counted as engraved units.\n",
    "\n",
    "Write a function `cost_of_project()` that takes two arguments:\n",
    "- `engraving` - a Python string with the text of the engraving\n",
    "- `solid_gold` - a Boolean that indicates whether the ring is solid gold\n",
    "\n",
    "It should return the cost of the project.  This question should be fairly challenging, and you may need a hint."
   ]
  },
  {
   "cell_type": "code",
   "execution_count": 15,
   "id": "456278c5",
   "metadata": {
    "execution": {
     "iopub.execute_input": "2023-08-31T13:40:30.551341Z",
     "iopub.status.busy": "2023-08-31T13:40:30.550957Z",
     "iopub.status.idle": "2023-08-31T13:40:30.560779Z",
     "shell.execute_reply": "2023-08-31T13:40:30.559724Z"
    },
    "papermill": {
     "duration": 0.027347,
     "end_time": "2023-08-31T13:40:30.563117",
     "exception": false,
     "start_time": "2023-08-31T13:40:30.535770",
     "status": "completed"
    },
    "tags": []
   },
   "outputs": [
    {
     "data": {
      "application/javascript": [
       "parent.postMessage({\"jupyterEvent\": \"custom.exercise_interaction\", \"data\": {\"outcomeType\": 1, \"valueTowardsCompletion\": 0.2, \"interactionType\": 1, \"questionType\": 2, \"questionId\": \"5_CustomEngravings\", \"learnToolsVersion\": \"0.3.4\", \"failureMessage\": \"\", \"exceptionClass\": \"\", \"trace\": \"\"}}, \"*\")"
      ],
      "text/plain": [
       "<IPython.core.display.Javascript object>"
      ]
     },
     "metadata": {},
     "output_type": "display_data"
    },
    {
     "data": {
      "text/markdown": [
       "<span style=\"color:#33cc33\">Correct</span>"
      ],
      "text/plain": [
       "Correct"
      ]
     },
     "metadata": {},
     "output_type": "display_data"
    }
   ],
   "source": [
    "def cost_of_project(engraving, solid_gold):\n",
    "    cost = solid_gold * (100 + 10 * len(engraving)) + (not solid_gold) * (50 + 7 * len(engraving))\n",
    "    return cost\n",
    "\n",
    "# Check your answer\n",
    "q5.check()"
   ]
  },
  {
   "cell_type": "code",
   "execution_count": 16,
   "id": "092fa099",
   "metadata": {
    "execution": {
     "iopub.execute_input": "2023-08-31T13:40:30.593481Z",
     "iopub.status.busy": "2023-08-31T13:40:30.592703Z",
     "iopub.status.idle": "2023-08-31T13:40:30.597257Z",
     "shell.execute_reply": "2023-08-31T13:40:30.596144Z"
    },
    "papermill": {
     "duration": 0.021932,
     "end_time": "2023-08-31T13:40:30.599425",
     "exception": false,
     "start_time": "2023-08-31T13:40:30.577493",
     "status": "completed"
    },
    "tags": []
   },
   "outputs": [],
   "source": [
    "# Uncomment to see a hint\n",
    "#q5.hint()\n",
    "\n",
    "# Uncomment to view the solution\n",
    "#q5.solution()"
   ]
  },
  {
   "cell_type": "markdown",
   "id": "b8181f4f",
   "metadata": {
    "papermill": {
     "duration": 0.013764,
     "end_time": "2023-08-31T13:40:30.627262",
     "exception": false,
     "start_time": "2023-08-31T13:40:30.613498",
     "status": "completed"
    },
    "tags": []
   },
   "source": [
    "Run the next code cell to calculate the cost of engraving `Charlie+Denver` on a solid gold ring."
   ]
  },
  {
   "cell_type": "code",
   "execution_count": 17,
   "id": "71182d13",
   "metadata": {
    "execution": {
     "iopub.execute_input": "2023-08-31T13:40:30.657281Z",
     "iopub.status.busy": "2023-08-31T13:40:30.656861Z",
     "iopub.status.idle": "2023-08-31T13:40:30.662321Z",
     "shell.execute_reply": "2023-08-31T13:40:30.661256Z"
    },
    "papermill": {
     "duration": 0.023277,
     "end_time": "2023-08-31T13:40:30.664876",
     "exception": false,
     "start_time": "2023-08-31T13:40:30.641599",
     "status": "completed"
    },
    "tags": []
   },
   "outputs": [
    {
     "name": "stdout",
     "output_type": "stream",
     "text": [
      "240\n"
     ]
    }
   ],
   "source": [
    "project_one = cost_of_project(\"Charlie+Denver\", True)\n",
    "print(project_one)"
   ]
  },
  {
   "cell_type": "code",
   "execution_count": 18,
   "id": "8c8fa172",
   "metadata": {
    "execution": {
     "iopub.execute_input": "2023-08-31T13:40:30.695135Z",
     "iopub.status.busy": "2023-08-31T13:40:30.694485Z",
     "iopub.status.idle": "2023-08-31T13:40:30.704531Z",
     "shell.execute_reply": "2023-08-31T13:40:30.703453Z"
    },
    "papermill": {
     "duration": 0.028253,
     "end_time": "2023-08-31T13:40:30.707370",
     "exception": false,
     "start_time": "2023-08-31T13:40:30.679117",
     "status": "completed"
    },
    "tags": []
   },
   "outputs": [
    {
     "name": "stdout",
     "output_type": "stream",
     "text": [
      "240\n"
     ]
    },
    {
     "data": {
      "application/javascript": [
       "parent.postMessage({\"jupyterEvent\": \"custom.exercise_interaction\", \"data\": {\"outcomeType\": 1, \"valueTowardsCompletion\": 0.2, \"interactionType\": 1, \"questionType\": 2, \"questionId\": \"5_CustomEngravings\", \"learnToolsVersion\": \"0.3.4\", \"failureMessage\": \"\", \"exceptionClass\": \"\", \"trace\": \"\"}}, \"*\")"
      ],
      "text/plain": [
       "<IPython.core.display.Javascript object>"
      ]
     },
     "metadata": {},
     "output_type": "display_data"
    },
    {
     "data": {
      "text/markdown": [
       "<span style=\"color:#33cc33\">Correct</span>"
      ],
      "text/plain": [
       "Correct"
      ]
     },
     "metadata": {},
     "output_type": "display_data"
    }
   ],
   "source": [
    "project_one = cost_of_project(\"Charlie+Denver\", True)\n",
    "print(project_one)\n",
    "q5.check()"
   ]
  },
  {
   "cell_type": "markdown",
   "id": "51aa39dc",
   "metadata": {
    "papermill": {
     "duration": 0.014434,
     "end_time": "2023-08-31T13:40:30.736787",
     "exception": false,
     "start_time": "2023-08-31T13:40:30.722353",
     "status": "completed"
    },
    "tags": []
   },
   "source": [
    "Use the next code cell to calculate the cost of engraving `08/10/2000` on a gold plated ring."
   ]
  },
  {
   "cell_type": "code",
   "execution_count": 19,
   "id": "dc8ecf36",
   "metadata": {
    "execution": {
     "iopub.execute_input": "2023-08-31T13:40:30.767726Z",
     "iopub.status.busy": "2023-08-31T13:40:30.767352Z",
     "iopub.status.idle": "2023-08-31T13:40:30.772927Z",
     "shell.execute_reply": "2023-08-31T13:40:30.771759Z"
    },
    "papermill": {
     "duration": 0.024153,
     "end_time": "2023-08-31T13:40:30.775623",
     "exception": false,
     "start_time": "2023-08-31T13:40:30.751470",
     "status": "completed"
    },
    "tags": []
   },
   "outputs": [
    {
     "name": "stdout",
     "output_type": "stream",
     "text": [
      "120\n"
     ]
    }
   ],
   "source": [
    "project_two = cost_of_project(\"08/10/2000\", False)\n",
    "print(project_two)"
   ]
  },
  {
   "cell_type": "markdown",
   "id": "7bee0a2f",
   "metadata": {
    "papermill": {
     "duration": 0.014448,
     "end_time": "2023-08-31T13:40:30.805371",
     "exception": false,
     "start_time": "2023-08-31T13:40:30.790923",
     "status": "completed"
    },
    "tags": []
   },
   "source": [
    "# Keep going\n",
    "\n",
    "Continue to the next lesson to **[learn about conditions and conditional statements](https://www.kaggle.com/alexisbcook/conditions-and-conditional-statements)**."
   ]
  },
  {
   "cell_type": "markdown",
   "id": "c70a2b75",
   "metadata": {
    "papermill": {
     "duration": 0.014479,
     "end_time": "2023-08-31T13:40:30.835078",
     "exception": false,
     "start_time": "2023-08-31T13:40:30.820599",
     "status": "completed"
    },
    "tags": []
   },
   "source": [
    "---\n",
    "\n",
    "\n",
    "\n",
    "\n",
    "*Have questions or comments? Visit the [course discussion forum](https://www.kaggle.com/learn/intro-to-programming/discussion) to chat with other learners.*"
   ]
  }
 ],
 "kernelspec": {
  "display_name": "Python 3",
  "language": "python",
  "name": "python3"
 },
 "language_info": {
  "codemirror_mode": {
   "name": "ipython",
   "version": 3
  },
  "file_extension": ".py",
  "mimetype": "text/x-python",
  "name": "python",
  "nbconvert_exporter": "python",
  "pygments_lexer": "ipython3",
  "version": "3.6.4"
 },
 "metadata": {
  "kernelspec": {
   "display_name": "Python 3",
   "language": "python",
   "name": "python3"
  },
  "language_info": {
   "codemirror_mode": {
    "name": "ipython",
    "version": 3
   },
   "file_extension": ".py",
   "mimetype": "text/x-python",
   "name": "python",
   "nbconvert_exporter": "python",
   "pygments_lexer": "ipython3",
   "version": "3.10.12"
  },
  "papermill": {
   "default_parameters": {},
   "duration": 12.977663,
   "end_time": "2023-08-31T13:40:31.672290",
   "environment_variables": {},
   "exception": null,
   "input_path": "__notebook__.ipynb",
   "output_path": "__notebook__.ipynb",
   "parameters": {},
   "start_time": "2023-08-31T13:40:18.694627",
   "version": "2.3.3"
  }
 },
 "nbformat": 4,
 "nbformat_minor": 5
}
